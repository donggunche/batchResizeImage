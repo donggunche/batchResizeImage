{
 "cells": [
  {
   "cell_type": "code",
   "execution_count": 1,
   "metadata": {},
   "outputs": [],
   "source": [
    "from glob import glob"
   ]
  },
  {
   "cell_type": "code",
   "execution_count": 2,
   "metadata": {},
   "outputs": [],
   "source": [
    "from PIL import Image"
   ]
  },
  {
   "cell_type": "code",
   "execution_count": 3,
   "metadata": {},
   "outputs": [],
   "source": [
    "import os"
   ]
  },
  {
   "cell_type": "code",
   "execution_count": 4,
   "metadata": {},
   "outputs": [],
   "source": [
    "source_dir = 'image'"
   ]
  },
  {
   "cell_type": "code",
   "execution_count": 5,
   "metadata": {},
   "outputs": [],
   "source": [
    "target_dir = 'output'"
   ]
  },
  {
   "cell_type": "code",
   "execution_count": 6,
   "metadata": {},
   "outputs": [],
   "source": [
    "filenames = glob('{}/*'.format(source_dir))"
   ]
  },
  {
   "cell_type": "code",
   "execution_count": 7,
   "metadata": {},
   "outputs": [
    {
     "name": "stdout",
     "output_type": "stream",
     "text": [
      "['image\\\\bg.jpg']\n"
     ]
    }
   ],
   "source": [
    "print(filenames)"
   ]
  },
  {
   "cell_type": "code",
   "execution_count": 8,
   "metadata": {},
   "outputs": [
    {
     "name": "stdout",
     "output_type": "stream",
     "text": [
      "image\\bg.jpg 750 1334 121745022\n"
     ]
    }
   ],
   "source": [
    "for filename in filenames:\n",
    "    with Image.open(filename) as im:\n",
    "        width, height = im.size\n",
    "        print(filename, width, height, os.path.getsize(filename))"
   ]
  },
  {
   "cell_type": "code",
   "execution_count": 10,
   "metadata": {},
   "outputs": [],
   "source": [
    "threshold = 2*1024*1024"
   ]
  },
  {
   "cell_type": "code",
   "execution_count": 11,
   "metadata": {},
   "outputs": [
    {
     "name": "stdout",
     "output_type": "stream",
     "text": [
      "image\\bg.jpg\n"
     ]
    }
   ],
   "source": [
    "for filename in filenames:\n",
    "    filesize = os.path.getsize(filename)\n",
    "    if filesize >= threshold:\n",
    "        print(filename)"
   ]
  },
  {
   "cell_type": "code",
   "execution_count": 12,
   "metadata": {},
   "outputs": [],
   "source": [
    "if not os.path.exists(target_dir):\n",
    "    os.makedirs(target_dir)"
   ]
  },
  {
   "cell_type": "code",
   "execution_count": 13,
   "metadata": {},
   "outputs": [
    {
     "name": "stdout",
     "output_type": "stream",
     "text": [
      "image\\bg.jpg\n",
      "adjusted size: 1024 1821\n"
     ]
    }
   ],
   "source": [
    "for filename in filenames:\n",
    "    filesize = os.path.getsize(filename)\n",
    "    if filesize >= threshold:\n",
    "        print(filename)\n",
    "        with Image.open(filename) as im:\n",
    "            width, height = im.size\n",
    "            new_width = 1024\n",
    "            new_height = int(new_width * height * 1.0 / width)\n",
    "            print('adjusted size:', new_width, new_height)"
   ]
  },
  {
   "cell_type": "code",
   "execution_count": 14,
   "metadata": {},
   "outputs": [
    {
     "name": "stdout",
     "output_type": "stream",
     "text": [
      "image\\bg.jpg\n"
     ]
    }
   ],
   "source": [
    "for filename in filenames:\n",
    "    filesize = os.path.getsize(filename)\n",
    "    if filesize >= threshold:\n",
    "        print(filename)\n",
    "        with Image.open(filename) as im:\n",
    "            width, height = im.size\n",
    "            new_width = 1024\n",
    "            new_height = int(new_width * height * 1.0 / width)\n",
    "            resized_im = im.resize((new_width, new_height))\n",
    "            output_filename = filename.replace(source_dir, target_dir)\n",
    "            resized_im.save(output_filename)"
   ]
  },
  {
   "cell_type": "code",
   "execution_count": 15,
   "metadata": {},
   "outputs": [],
   "source": [
    "def resize_images(source_dir, target_dir, threshold):\n",
    "    filenames = glob('{}/*'.format(source_dir))\n",
    "    if not os.path.exists(target_dir):\n",
    "        os.makedirs(target_dir)\n",
    "    for filename in filenames:\n",
    "        filesize = os.path.getsize(filename)\n",
    "        if filesize >= threshold:\n",
    "            print(filename)\n",
    "            with Image.open(filename) as im:\n",
    "                width, height = im.size\n",
    "                new_width = 1024\n",
    "                new_height = int(new_width * height * 1.0 / width)\n",
    "                resized_im = im.resize((new_width, new_height))\n",
    "                output_filename = filename.replace(source_dir, target_dir)\n",
    "                resized_im.save(output_filename)"
   ]
  },
  {
   "cell_type": "code",
   "execution_count": 16,
   "metadata": {},
   "outputs": [],
   "source": [
    "import math"
   ]
  },
  {
   "cell_type": "code",
   "execution_count": 17,
   "metadata": {},
   "outputs": [],
   "source": [
    "def resize_images(source_dir, target_dir, threshold):\n",
    "    filenames = glob('{}/*'.format(source_dir))\n",
    "    if not os.path.exists(target_dir):\n",
    "        os.makedirs(target_dir)\n",
    "    for filename in filenames:\n",
    "        filesize = os.path.getsize(filename)\n",
    "        if filesize >= threshold:\n",
    "            print(filename)\n",
    "            with Image.open(filename) as im:\n",
    "                width, height = im.size\n",
    "                if width >= height:\n",
    "                    new_width = int(math.sqrt(threshold/2))\n",
    "                    new_height = int(new_width * height * 1.0 / width)\n",
    "                else:\n",
    "                    new_height = int(math.sqrt(threshold/2))\n",
    "                    new_width = int(new_height * width * 1.0 / height)\n",
    "                resized_im = im.resize((new_width, new_height))\n",
    "                output_filename = filename.replace(source_dir, target_dir)\n",
    "                resized_im.save(output_filename)"
   ]
  },
  {
   "cell_type": "code",
   "execution_count": 18,
   "metadata": {},
   "outputs": [
    {
     "name": "stdout",
     "output_type": "stream",
     "text": [
      "image\\bg.jpg\n"
     ]
    }
   ],
   "source": [
    "resize_images(source_dir, target_dir, threshold)"
   ]
  },
  {
   "cell_type": "code",
   "execution_count": null,
   "metadata": {},
   "outputs": [],
   "source": []
  }
 ],
 "metadata": {
  "kernelspec": {
   "display_name": "Python 3",
   "language": "python",
   "name": "python3"
  },
  "language_info": {
   "codemirror_mode": {
    "name": "ipython",
    "version": 3
   },
   "file_extension": ".py",
   "mimetype": "text/x-python",
   "name": "python",
   "nbconvert_exporter": "python",
   "pygments_lexer": "ipython3",
   "version": "3.7.6"
  }
 },
 "nbformat": 4,
 "nbformat_minor": 1
}
